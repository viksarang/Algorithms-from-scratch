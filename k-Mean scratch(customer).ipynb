{
 "cells": [
  {
   "cell_type": "code",
   "execution_count": 1,
   "metadata": {},
   "outputs": [],
   "source": [
    "%matplotlib inline\n",
    "from copy import deepcopy\n",
    "import numpy as np\n",
    "import pandas as pd\n",
    "from matplotlib import pyplot as plt\n",
    "plt.rcParams['figure.figsize'] = (16, 9)\n",
    "plt.style.use('ggplot')"
   ]
  },
  {
   "cell_type": "code",
   "execution_count": 2,
   "metadata": {},
   "outputs": [],
   "source": [
    "train=pd.read_csv(\"cproducts.csv\")"
   ]
  },
  {
   "cell_type": "code",
   "execution_count": 3,
   "metadata": {},
   "outputs": [
    {
     "data": {
      "text/html": [
       "<div>\n",
       "<style scoped>\n",
       "    .dataframe tbody tr th:only-of-type {\n",
       "        vertical-align: middle;\n",
       "    }\n",
       "\n",
       "    .dataframe tbody tr th {\n",
       "        vertical-align: top;\n",
       "    }\n",
       "\n",
       "    .dataframe thead th {\n",
       "        text-align: right;\n",
       "    }\n",
       "</style>\n",
       "<table border=\"1\" class=\"dataframe\">\n",
       "  <thead>\n",
       "    <tr style=\"text-align: right;\">\n",
       "      <th></th>\n",
       "      <th>customerID</th>\n",
       "      <th>DOB</th>\n",
       "      <th>Gender</th>\n",
       "      <th>State</th>\n",
       "      <th>PinCode</th>\n",
       "      <th>transactionDate</th>\n",
       "      <th>store_code</th>\n",
       "      <th>store_description</th>\n",
       "      <th>till_no</th>\n",
       "      <th>transaction_number_by_till</th>\n",
       "      <th>promo_code</th>\n",
       "      <th>promotion_description</th>\n",
       "      <th>product_code</th>\n",
       "      <th>product_description</th>\n",
       "      <th>sale_price_after_promo</th>\n",
       "      <th>discountUsed</th>\n",
       "    </tr>\n",
       "  </thead>\n",
       "  <tbody>\n",
       "    <tr>\n",
       "      <th>0</th>\n",
       "      <td>BBID_20482</td>\n",
       "      <td>1975-10-20</td>\n",
       "      <td>male</td>\n",
       "      <td>MADHYA PRADESH</td>\n",
       "      <td>453441.0</td>\n",
       "      <td>2016-05-01</td>\n",
       "      <td>2655</td>\n",
       "      <td>BB-INDORE-MALHAR MEGA MALL</td>\n",
       "      <td>2</td>\n",
       "      <td>85246</td>\n",
       "      <td>NONPROMO</td>\n",
       "      <td>NaN</td>\n",
       "      <td>1000446431</td>\n",
       "      <td>PATANJALI CHOCOS 125g</td>\n",
       "      <td>55.00</td>\n",
       "      <td>Payback</td>\n",
       "    </tr>\n",
       "    <tr>\n",
       "      <th>1</th>\n",
       "      <td>BBID_20485</td>\n",
       "      <td>1955-07-21</td>\n",
       "      <td>female</td>\n",
       "      <td>NaN</td>\n",
       "      <td>999999.0</td>\n",
       "      <td>2017-03-09</td>\n",
       "      <td>2655</td>\n",
       "      <td>BB-INDORE-MALHAR MEGA MALL</td>\n",
       "      <td>8</td>\n",
       "      <td>78829</td>\n",
       "      <td>NONPROMO</td>\n",
       "      <td>NaN</td>\n",
       "      <td>1000010431</td>\n",
       "      <td>SOO FRESH ROLLS HOT DOG 4P</td>\n",
       "      <td>30.00</td>\n",
       "      <td>Payback</td>\n",
       "    </tr>\n",
       "    <tr>\n",
       "      <th>2</th>\n",
       "      <td>BBID_20498</td>\n",
       "      <td>1981-03-19</td>\n",
       "      <td>female</td>\n",
       "      <td>MAHARASHTRA</td>\n",
       "      <td>400064.0</td>\n",
       "      <td>2015-08-12</td>\n",
       "      <td>2655</td>\n",
       "      <td>BB-INDORE-MALHAR MEGA MALL</td>\n",
       "      <td>13</td>\n",
       "      <td>1064</td>\n",
       "      <td>0000971754</td>\n",
       "      <td>AD 399 FLAT LADIES JEANS  FASHION EXC</td>\n",
       "      <td>1000077851005</td>\n",
       "      <td>DLJ-0010-BSF-2-CJ-FL, 34, BLACK</td>\n",
       "      <td>418.95</td>\n",
       "      <td>Payback</td>\n",
       "    </tr>\n",
       "    <tr>\n",
       "      <th>3</th>\n",
       "      <td>BBID_20499</td>\n",
       "      <td>1986-05-10</td>\n",
       "      <td>male</td>\n",
       "      <td>MAHARASHTRA</td>\n",
       "      <td>400099.0</td>\n",
       "      <td>2016-12-18</td>\n",
       "      <td>2615</td>\n",
       "      <td>BB-AMRITSAR-TRILIUM MALL</td>\n",
       "      <td>14</td>\n",
       "      <td>51080</td>\n",
       "      <td>NONPROMO</td>\n",
       "      <td>NaN</td>\n",
       "      <td>1000443231</td>\n",
       "      <td>PATANJALI TOMATO KETCHUP BT 500g</td>\n",
       "      <td>70.00</td>\n",
       "      <td>Payback</td>\n",
       "    </tr>\n",
       "    <tr>\n",
       "      <th>4</th>\n",
       "      <td>BBID_204110</td>\n",
       "      <td>1988-02-29</td>\n",
       "      <td>male</td>\n",
       "      <td>MADHYA PRADESH</td>\n",
       "      <td>474001.0</td>\n",
       "      <td>2015-12-31</td>\n",
       "      <td>2655</td>\n",
       "      <td>BB-INDORE-MALHAR MEGA MALL</td>\n",
       "      <td>9</td>\n",
       "      <td>21911</td>\n",
       "      <td>0000974126</td>\n",
       "      <td>NMP 5% OFF CONCEPT DISCOUNT 2655</td>\n",
       "      <td>300481741</td>\n",
       "      <td>MAGGI NDL MERI MASALA PP 70g</td>\n",
       "      <td>34.20</td>\n",
       "      <td>Payback</td>\n",
       "    </tr>\n",
       "  </tbody>\n",
       "</table>\n",
       "</div>"
      ],
      "text/plain": [
       "    customerID         DOB  Gender           State   PinCode transactionDate  \\\n",
       "0   BBID_20482  1975-10-20    male  MADHYA PRADESH  453441.0      2016-05-01   \n",
       "1   BBID_20485  1955-07-21  female             NaN  999999.0      2017-03-09   \n",
       "2   BBID_20498  1981-03-19  female     MAHARASHTRA  400064.0      2015-08-12   \n",
       "3   BBID_20499  1986-05-10    male     MAHARASHTRA  400099.0      2016-12-18   \n",
       "4  BBID_204110  1988-02-29    male  MADHYA PRADESH  474001.0      2015-12-31   \n",
       "\n",
       "   store_code           store_description  till_no  \\\n",
       "0        2655  BB-INDORE-MALHAR MEGA MALL        2   \n",
       "1        2655  BB-INDORE-MALHAR MEGA MALL        8   \n",
       "2        2655  BB-INDORE-MALHAR MEGA MALL       13   \n",
       "3        2615    BB-AMRITSAR-TRILIUM MALL       14   \n",
       "4        2655  BB-INDORE-MALHAR MEGA MALL        9   \n",
       "\n",
       "   transaction_number_by_till  promo_code  \\\n",
       "0                       85246    NONPROMO   \n",
       "1                       78829    NONPROMO   \n",
       "2                        1064  0000971754   \n",
       "3                       51080    NONPROMO   \n",
       "4                       21911  0000974126   \n",
       "\n",
       "                   promotion_description   product_code  \\\n",
       "0                                    NaN     1000446431   \n",
       "1                                    NaN     1000010431   \n",
       "2  AD 399 FLAT LADIES JEANS  FASHION EXC  1000077851005   \n",
       "3                                    NaN     1000443231   \n",
       "4       NMP 5% OFF CONCEPT DISCOUNT 2655      300481741   \n",
       "\n",
       "                product_description  sale_price_after_promo discountUsed  \n",
       "0             PATANJALI CHOCOS 125g                   55.00      Payback  \n",
       "1        SOO FRESH ROLLS HOT DOG 4P                   30.00      Payback  \n",
       "2   DLJ-0010-BSF-2-CJ-FL, 34, BLACK                  418.95      Payback  \n",
       "3  PATANJALI TOMATO KETCHUP BT 500g                   70.00      Payback  \n",
       "4      MAGGI NDL MERI MASALA PP 70g                   34.20      Payback  "
      ]
     },
     "execution_count": 3,
     "metadata": {},
     "output_type": "execute_result"
    }
   ],
   "source": [
    "train.head()"
   ]
  },
  {
   "cell_type": "code",
   "execution_count": 4,
   "metadata": {},
   "outputs": [],
   "source": [
    "store= train[train['store_code']==4796]"
   ]
  },
  {
   "cell_type": "code",
   "execution_count": 5,
   "metadata": {},
   "outputs": [
    {
     "data": {
      "text/plain": [
       "pandas.core.frame.DataFrame"
      ]
     },
     "execution_count": 5,
     "metadata": {},
     "output_type": "execute_result"
    }
   ],
   "source": [
    "type(store)"
   ]
  },
  {
   "cell_type": "code",
   "execution_count": 6,
   "metadata": {},
   "outputs": [],
   "source": [
    "del store['customerID']\n",
    "del store['DOB']"
   ]
  },
  {
   "cell_type": "code",
   "execution_count": 7,
   "metadata": {},
   "outputs": [],
   "source": [
    "from sklearn import preprocessing\n",
    "le = preprocessing.LabelEncoder()"
   ]
  },
  {
   "cell_type": "code",
   "execution_count": 8,
   "metadata": {},
   "outputs": [],
   "source": [
    "f1=le.fit_transform(store[\"promo_code\"])\n",
    "f2=le.fit_transform(store[\"product_code\"])"
   ]
  },
  {
   "cell_type": "code",
   "execution_count": 9,
   "metadata": {},
   "outputs": [],
   "source": [
    "#kmeans(f1,f2,3)"
   ]
  },
  {
   "cell_type": "code",
   "execution_count": 10,
   "metadata": {},
   "outputs": [],
   "source": [
    "f3=[f1,f2]"
   ]
  },
  {
   "cell_type": "code",
   "execution_count": 11,
   "metadata": {},
   "outputs": [],
   "source": [
    "f3=pd.DataFrame(f3)"
   ]
  },
  {
   "cell_type": "code",
   "execution_count": 12,
   "metadata": {},
   "outputs": [],
   "source": [
    "f3=f3.transpose()"
   ]
  },
  {
   "cell_type": "code",
   "execution_count": 13,
   "metadata": {},
   "outputs": [],
   "source": [
    "f4=f3.iloc[0:10]"
   ]
  },
  {
   "cell_type": "code",
   "execution_count": 14,
   "metadata": {},
   "outputs": [],
   "source": [
    "def KM(data,k):\n",
    "    n = data.shape[0]\n",
    "    c = data.shape[1]\n",
    "    mean = np.mean(data, axis = 0).values\n",
    "    std = np.std(data, axis = 0).values\n",
    "    centers = (np.random.randn(k,c))*std + mean\n",
    "    centers_old = np.zeros(centers.shape) \n",
    "    centers_new = deepcopy(centers)\n",
    "    clusters = np.zeros(n)\n",
    "    distances = np.zeros((n,k))\n",
    "    error = np.linalg.norm(centers_new - centers_old)\n",
    "    dict1={}\n",
    "    while error != 0:\n",
    "        for i in range(k):\n",
    "            distances[:,i] = np.linalg.norm(data - centers[i], axis=1)\n",
    "            clusters = np.argmin(distances, axis = 1)\n",
    "            centers_old = deepcopy(centers_new)\n",
    "        for i in range(k):\n",
    "            centers_new[i] = np.mean(data[clusters == i], axis=0)\n",
    "            dict1[i+1]=data[clusters == i]\n",
    "        error = np.linalg.norm(centers_new - centers_old)\n",
    "    return dict1"
   ]
  },
  {
   "cell_type": "code",
   "execution_count": 15,
   "metadata": {},
   "outputs": [
    {
     "data": {
      "text/plain": [
       "{1:      0    1\n",
       " 0  576  741\n",
       " 5   87  898\n",
       " 6   52  267\n",
       " 7  576  450\n",
       " 8  576   35\n",
       " 9  576  123, 2:      0     1\n",
       " 2  576  1399\n",
       " 4  534  1394, 3:      0     1\n",
       " 1  172  1720\n",
       " 3  576  1578}"
      ]
     },
     "execution_count": 15,
     "metadata": {},
     "output_type": "execute_result"
    }
   ],
   "source": [
    "KM(f4,3)"
   ]
  },
  {
   "cell_type": "code",
   "execution_count": null,
   "metadata": {},
   "outputs": [],
   "source": []
  }
 ],
 "metadata": {
  "kernelspec": {
   "display_name": "Python 3",
   "language": "python",
   "name": "python3"
  },
  "language_info": {
   "codemirror_mode": {
    "name": "ipython",
    "version": 3
   },
   "file_extension": ".py",
   "mimetype": "text/x-python",
   "name": "python",
   "nbconvert_exporter": "python",
   "pygments_lexer": "ipython3",
   "version": "3.7.3"
  }
 },
 "nbformat": 4,
 "nbformat_minor": 4
}
