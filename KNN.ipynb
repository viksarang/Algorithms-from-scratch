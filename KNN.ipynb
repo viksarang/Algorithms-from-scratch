{
 "cells": [
  {
   "cell_type": "code",
   "execution_count": 1,
   "metadata": {},
   "outputs": [],
   "source": [
    "import pandas as pd\n",
    "import numpy as np\n",
    "from sklearn.model_selection import train_test_split\n",
    "import math\n",
    "import operator"
   ]
  },
  {
   "cell_type": "code",
   "execution_count": 2,
   "metadata": {},
   "outputs": [
    {
     "data": {
      "text/plain": [
       "7    2160\n",
       "6    2160\n",
       "5    2160\n",
       "4    2160\n",
       "3    2160\n",
       "2    2160\n",
       "1    2160\n",
       "Name: Cover_Type, dtype: int64"
      ]
     },
     "execution_count": 2,
     "metadata": {},
     "output_type": "execute_result"
    }
   ],
   "source": [
    "df=pd.read_csv(r\"C:\\Users\\Vigneshwaraa Sarang\\Downloads\\Data Science\\Data sets\\Forest Classifier\\train.csv\")\n",
    "df['Cover_Type'].value_counts()"
   ]
  },
  {
   "cell_type": "code",
   "execution_count": 3,
   "metadata": {},
   "outputs": [],
   "source": [
    "x,y=train_test_split(df,test_size=0.33)"
   ]
  },
  {
   "cell_type": "code",
   "execution_count": 4,
   "metadata": {},
   "outputs": [],
   "source": [
    "x2=pd.DataFrame(x)\n",
    "y2=pd.DataFrame(y)"
   ]
  },
  {
   "cell_type": "code",
   "execution_count": 5,
   "metadata": {},
   "outputs": [
    {
     "data": {
      "text/plain": [
       "(10130, 56)"
      ]
     },
     "execution_count": 5,
     "metadata": {},
     "output_type": "execute_result"
    }
   ],
   "source": [
    "x2.shape"
   ]
  },
  {
   "cell_type": "code",
   "execution_count": 27,
   "metadata": {},
   "outputs": [
    {
     "data": {
      "text/html": [
       "<div>\n",
       "<style scoped>\n",
       "    .dataframe tbody tr th:only-of-type {\n",
       "        vertical-align: middle;\n",
       "    }\n",
       "\n",
       "    .dataframe tbody tr th {\n",
       "        vertical-align: top;\n",
       "    }\n",
       "\n",
       "    .dataframe thead th {\n",
       "        text-align: right;\n",
       "    }\n",
       "</style>\n",
       "<table border=\"1\" class=\"dataframe\">\n",
       "  <thead>\n",
       "    <tr style=\"text-align: right;\">\n",
       "      <th></th>\n",
       "      <th>Id</th>\n",
       "      <th>Elevation</th>\n",
       "      <th>Aspect</th>\n",
       "      <th>Slope</th>\n",
       "      <th>Horizontal_Distance_To_Hydrology</th>\n",
       "      <th>Vertical_Distance_To_Hydrology</th>\n",
       "      <th>Horizontal_Distance_To_Roadways</th>\n",
       "      <th>Hillshade_9am</th>\n",
       "      <th>Hillshade_Noon</th>\n",
       "      <th>Hillshade_3pm</th>\n",
       "      <th>...</th>\n",
       "      <th>Soil_Type32</th>\n",
       "      <th>Soil_Type33</th>\n",
       "      <th>Soil_Type34</th>\n",
       "      <th>Soil_Type35</th>\n",
       "      <th>Soil_Type36</th>\n",
       "      <th>Soil_Type37</th>\n",
       "      <th>Soil_Type38</th>\n",
       "      <th>Soil_Type39</th>\n",
       "      <th>Soil_Type40</th>\n",
       "      <th>Cover_Type</th>\n",
       "    </tr>\n",
       "  </thead>\n",
       "  <tbody>\n",
       "    <tr>\n",
       "      <th>14844</th>\n",
       "      <td>14845</td>\n",
       "      <td>3235</td>\n",
       "      <td>185</td>\n",
       "      <td>16</td>\n",
       "      <td>30</td>\n",
       "      <td>-12</td>\n",
       "      <td>2470</td>\n",
       "      <td>221</td>\n",
       "      <td>249</td>\n",
       "      <td>156</td>\n",
       "      <td>...</td>\n",
       "      <td>0</td>\n",
       "      <td>0</td>\n",
       "      <td>0</td>\n",
       "      <td>0</td>\n",
       "      <td>0</td>\n",
       "      <td>0</td>\n",
       "      <td>0</td>\n",
       "      <td>0</td>\n",
       "      <td>0</td>\n",
       "      <td>1</td>\n",
       "    </tr>\n",
       "    <tr>\n",
       "      <th>9663</th>\n",
       "      <td>9664</td>\n",
       "      <td>3731</td>\n",
       "      <td>334</td>\n",
       "      <td>14</td>\n",
       "      <td>987</td>\n",
       "      <td>285</td>\n",
       "      <td>5254</td>\n",
       "      <td>186</td>\n",
       "      <td>220</td>\n",
       "      <td>173</td>\n",
       "      <td>...</td>\n",
       "      <td>0</td>\n",
       "      <td>0</td>\n",
       "      <td>0</td>\n",
       "      <td>0</td>\n",
       "      <td>0</td>\n",
       "      <td>0</td>\n",
       "      <td>0</td>\n",
       "      <td>0</td>\n",
       "      <td>1</td>\n",
       "      <td>7</td>\n",
       "    </tr>\n",
       "    <tr>\n",
       "      <th>279</th>\n",
       "      <td>280</td>\n",
       "      <td>3008</td>\n",
       "      <td>135</td>\n",
       "      <td>3</td>\n",
       "      <td>931</td>\n",
       "      <td>36</td>\n",
       "      <td>5727</td>\n",
       "      <td>224</td>\n",
       "      <td>238</td>\n",
       "      <td>150</td>\n",
       "      <td>...</td>\n",
       "      <td>0</td>\n",
       "      <td>0</td>\n",
       "      <td>0</td>\n",
       "      <td>0</td>\n",
       "      <td>0</td>\n",
       "      <td>0</td>\n",
       "      <td>0</td>\n",
       "      <td>0</td>\n",
       "      <td>0</td>\n",
       "      <td>2</td>\n",
       "    </tr>\n",
       "    <tr>\n",
       "      <th>14670</th>\n",
       "      <td>14671</td>\n",
       "      <td>3326</td>\n",
       "      <td>23</td>\n",
       "      <td>5</td>\n",
       "      <td>60</td>\n",
       "      <td>8</td>\n",
       "      <td>2038</td>\n",
       "      <td>217</td>\n",
       "      <td>228</td>\n",
       "      <td>148</td>\n",
       "      <td>...</td>\n",
       "      <td>0</td>\n",
       "      <td>0</td>\n",
       "      <td>0</td>\n",
       "      <td>0</td>\n",
       "      <td>0</td>\n",
       "      <td>0</td>\n",
       "      <td>0</td>\n",
       "      <td>1</td>\n",
       "      <td>0</td>\n",
       "      <td>7</td>\n",
       "    </tr>\n",
       "    <tr>\n",
       "      <th>4055</th>\n",
       "      <td>4056</td>\n",
       "      <td>2276</td>\n",
       "      <td>326</td>\n",
       "      <td>18</td>\n",
       "      <td>0</td>\n",
       "      <td>0</td>\n",
       "      <td>1138</td>\n",
       "      <td>174</td>\n",
       "      <td>218</td>\n",
       "      <td>183</td>\n",
       "      <td>...</td>\n",
       "      <td>0</td>\n",
       "      <td>0</td>\n",
       "      <td>0</td>\n",
       "      <td>0</td>\n",
       "      <td>0</td>\n",
       "      <td>0</td>\n",
       "      <td>0</td>\n",
       "      <td>0</td>\n",
       "      <td>0</td>\n",
       "      <td>4</td>\n",
       "    </tr>\n",
       "  </tbody>\n",
       "</table>\n",
       "<p>5 rows × 56 columns</p>\n",
       "</div>"
      ],
      "text/plain": [
       "          Id  Elevation  Aspect  Slope  Horizontal_Distance_To_Hydrology  \\\n",
       "14844  14845       3235     185     16                                30   \n",
       "9663    9664       3731     334     14                               987   \n",
       "279      280       3008     135      3                               931   \n",
       "14670  14671       3326      23      5                                60   \n",
       "4055    4056       2276     326     18                                 0   \n",
       "\n",
       "       Vertical_Distance_To_Hydrology  Horizontal_Distance_To_Roadways  \\\n",
       "14844                             -12                             2470   \n",
       "9663                              285                             5254   \n",
       "279                                36                             5727   \n",
       "14670                               8                             2038   \n",
       "4055                                0                             1138   \n",
       "\n",
       "       Hillshade_9am  Hillshade_Noon  Hillshade_3pm  ...  Soil_Type32  \\\n",
       "14844            221             249            156  ...            0   \n",
       "9663             186             220            173  ...            0   \n",
       "279              224             238            150  ...            0   \n",
       "14670            217             228            148  ...            0   \n",
       "4055             174             218            183  ...            0   \n",
       "\n",
       "       Soil_Type33  Soil_Type34  Soil_Type35  Soil_Type36  Soil_Type37  \\\n",
       "14844            0            0            0            0            0   \n",
       "9663             0            0            0            0            0   \n",
       "279              0            0            0            0            0   \n",
       "14670            0            0            0            0            0   \n",
       "4055             0            0            0            0            0   \n",
       "\n",
       "       Soil_Type38  Soil_Type39  Soil_Type40  Cover_Type  \n",
       "14844            0            0            0           1  \n",
       "9663             0            0            1           7  \n",
       "279              0            0            0           2  \n",
       "14670            0            1            0           7  \n",
       "4055             0            0            0           4  \n",
       "\n",
       "[5 rows x 56 columns]"
      ]
     },
     "execution_count": 27,
     "metadata": {},
     "output_type": "execute_result"
    }
   ],
   "source": [
    "x2.head()"
   ]
  },
  {
   "cell_type": "code",
   "execution_count": 6,
   "metadata": {},
   "outputs": [],
   "source": [
    "y3=y2.iloc[0:100]"
   ]
  },
  {
   "cell_type": "code",
   "execution_count": 7,
   "metadata": {},
   "outputs": [],
   "source": [
    "y4=y3.drop('Cover_Type',axis=1)"
   ]
  },
  {
   "cell_type": "code",
   "execution_count": 8,
   "metadata": {},
   "outputs": [
    {
     "data": {
      "text/plain": [
       "(100, 55)"
      ]
     },
     "execution_count": 8,
     "metadata": {},
     "output_type": "execute_result"
    }
   ],
   "source": [
    "y4.shape"
   ]
  },
  {
   "cell_type": "code",
   "execution_count": 9,
   "metadata": {},
   "outputs": [],
   "source": [
    "def ED(x1, x2, length):\n",
    "    distance = 0\n",
    "    #print(len(x1))\n",
    "    for x in range(length):\n",
    "        distance += np.square(x1[x] - x2[x])\n",
    "    return np.sqrt(distance)\n",
    "def knn(trainingSet, testInstance, k):\n",
    "    sort1=[]\n",
    "    for y in range(len(testInstance)):\n",
    "        bb=(testInstance.iloc[y]).tolist()\n",
    "    \n",
    "        distances ={}\n",
    "        sort = {}\n",
    "        length =len(bb)\n",
    "        for x in range(len(trainingSet)):\n",
    "            aa=(trainingSet.iloc[x]).tolist()\n",
    "            dist = ED(bb,aa, length)\n",
    "            distances[x] = dist\n",
    "        sortdist = sorted(distances.items(), key=operator.itemgetter(1))\n",
    "                \n",
    "        neighbors = []\n",
    "        for x in range(k):\n",
    "            neighbors.append(sortdist[x][0])\n",
    "   \n",
    "        Votes = {}\n",
    "        for x in range(len(neighbors)):\n",
    "            response = trainingSet.iloc[neighbors[x]][-1]\n",
    "            if response in Votes:\n",
    "                Votes[response] += 1\n",
    "            else:\n",
    "                Votes[response] = 1\n",
    "        sortvotes = sorted(Votes.items(), key=operator.itemgetter(1), reverse=True)\n",
    "        #print(sortvotes)\n",
    "        sort1.append(sortvotes[0][0])\n",
    "    return sort1"
   ]
  },
  {
   "cell_type": "code",
   "execution_count": 23,
   "metadata": {},
   "outputs": [],
   "source": [
    "aa1=knn(x2,y4,3)"
   ]
  },
  {
   "cell_type": "code",
   "execution_count": 24,
   "metadata": {},
   "outputs": [],
   "source": [
    "from sklearn.metrics import accuracy_score"
   ]
  },
  {
   "cell_type": "code",
   "execution_count": 25,
   "metadata": {},
   "outputs": [],
   "source": [
    "aa2=y3.iloc[:,-1]"
   ]
  },
  {
   "cell_type": "code",
   "execution_count": 26,
   "metadata": {},
   "outputs": [
    {
     "data": {
      "text/plain": [
       "0.83"
      ]
     },
     "execution_count": 26,
     "metadata": {},
     "output_type": "execute_result"
    }
   ],
   "source": [
    "accuracy_score(aa2,aa1)"
   ]
  },
  {
   "cell_type": "code",
   "execution_count": 14,
   "metadata": {},
   "outputs": [],
   "source": [
    "x_train=x2.drop('Cover_Type',axis=1)\n",
    "y_train=x2.iloc[:,-1]"
   ]
  },
  {
   "cell_type": "code",
   "execution_count": 56,
   "metadata": {},
   "outputs": [],
   "source": [
    "from sklearn.neighbors import KNeighborsClassifier\n",
    "neigh = KNeighborsClassifier(n_neighbors=1)"
   ]
  },
  {
   "cell_type": "code",
   "execution_count": 57,
   "metadata": {},
   "outputs": [
    {
     "data": {
      "text/plain": [
       "KNeighborsClassifier(algorithm='auto', leaf_size=30, metric='minkowski',\n",
       "                     metric_params=None, n_jobs=None, n_neighbors=1, p=2,\n",
       "                     weights='uniform')"
      ]
     },
     "execution_count": 57,
     "metadata": {},
     "output_type": "execute_result"
    }
   ],
   "source": [
    "neigh.fit(x_train,y_train)"
   ]
  },
  {
   "cell_type": "code",
   "execution_count": 58,
   "metadata": {},
   "outputs": [],
   "source": [
    "aa3=neigh.predict(y4)"
   ]
  },
  {
   "cell_type": "code",
   "execution_count": 59,
   "metadata": {},
   "outputs": [
    {
     "data": {
      "text/plain": [
       "0.86"
      ]
     },
     "execution_count": 59,
     "metadata": {},
     "output_type": "execute_result"
    }
   ],
   "source": [
    "accuracy_score(aa2,aa3)"
   ]
  },
  {
   "cell_type": "code",
   "execution_count": null,
   "metadata": {},
   "outputs": [],
   "source": []
  }
 ],
 "metadata": {
  "kernelspec": {
   "display_name": "Python 3",
   "language": "python",
   "name": "python3"
  },
  "language_info": {
   "codemirror_mode": {
    "name": "ipython",
    "version": 3
   },
   "file_extension": ".py",
   "mimetype": "text/x-python",
   "name": "python",
   "nbconvert_exporter": "python",
   "pygments_lexer": "ipython3",
   "version": "3.7.3"
  }
 },
 "nbformat": 4,
 "nbformat_minor": 4
}
